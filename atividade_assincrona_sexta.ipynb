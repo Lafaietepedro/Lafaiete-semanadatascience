{
 "cells": [
  {
   "cell_type": "markdown",
   "metadata": {},
   "source": [
    "# Responda as perguntas:\n",
    "\n",
    "- O que é ?\n",
    "- Para que serve?\n",
    "- Como fazer?\n",
    "\n",
    "- Estatística:\n",
    "\t\n",
    "    - Média\n",
    "    - Mediana\n",
    "    - Moda\n",
    "    - Quartis\n",
    "    - Desvio Padrão\n",
    "\n",
    "###### Fonte: Chat GPT"
   ]
  },
  {
   "cell_type": "markdown",
   "metadata": {},
   "source": [
    "## 1. Média\n",
    "\n",
    "- O que é?\n",
    "A média é uma medida de tendência central que representa a soma de um conjunto de valores dividida pelo número total de valores. É frequentemente referida como a média aritmética.\n",
    "\n",
    "- Para que serve?\n",
    "Serve para fornecer uma ideia geral do \"valor central\" de um conjunto de dados. É usada para resumir dados e facilitar comparações entre diferentes conjuntos de dados.\n",
    "\n",
    "- Como fazer?\n",
    "Para calcular a média de um conjunto de números, some todos os valores e divida pelo número de valores:"
   ]
  },
  {
   "cell_type": "code",
   "execution_count": null,
   "metadata": {},
   "outputs": [],
   "source": [
    "def media(valores):\n",
    "    return sum(valores) / len(valores)\n",
    "\n",
    "valores = [10, 20, 30, 40, 50]\n",
    "media_valores = media(valores)\n",
    "print(media_valores)"
   ]
  },
  {
   "cell_type": "markdown",
   "metadata": {},
   "source": [
    "## 2. Mediana\n",
    "\n",
    "- O que é?\n",
    "A mediana é o valor que separa um conjunto de dados ordenados ao meio. Se o número de observações for ímpar, é o valor central; se for par, é a média dos dois valores centrais.\n",
    "\n",
    "- Para que serve?\n",
    "Serve para identificar o ponto médio de um conjunto de dados, especialmente útil em distribuições assimétricas, pois não é afetada por valores extremos.\n",
    "\n",
    "- Como fazer?\n",
    "Para calcular a mediana, ordene os dados e encontre o valor central:"
   ]
  },
  {
   "cell_type": "code",
   "execution_count": null,
   "metadata": {},
   "outputs": [],
   "source": [
    "def mediana(valores):\n",
    "    valores.sort()\n",
    "    n = len(valores)\n",
    "    meio = n // 2\n",
    "    if n % 2 == 0:\n",
    "        return (valores[meio - 1] + valores[meio]) / 2\n",
    "    else:\n",
    "        return valores[meio]\n",
    "\n",
    "valores = [10, 20, 30, 40, 50]\n",
    "mediana_valores = mediana(valores)\n",
    "print(mediana_valores)\n"
   ]
  },
  {
   "cell_type": "markdown",
   "metadata": {},
   "source": [
    "## 3. Moda\n",
    "\n",
    "- O que é?\n",
    "A moda é o valor que aparece com maior frequência em um conjunto de dados. Pode haver mais de uma moda se múltiplos valores tiverem a mesma frequência máxima.\n",
    "\n",
    "- Para que serve?\n",
    "Serve para identificar os valores mais comuns em um conjunto de dados, útil para entender padrões e distribuições.\n",
    "\n",
    "- Como fazer?\n",
    "Para encontrar a moda, conte as frequências de cada valor e identifique o(s) valor(es) mais frequente(s):"
   ]
  },
  {
   "cell_type": "code",
   "execution_count": null,
   "metadata": {},
   "outputs": [],
   "source": [
    "from collections import Counter\n",
    "\n",
    "def moda(valores):\n",
    "    contagem = Counter(valores)\n",
    "    max_freq = max(contagem.values())\n",
    "    modas = [k for k, v in contagem.items() if v == max_freq]\n",
    "    return modas\n",
    "\n",
    "valores = [10, 20, 20, 30, 40, 50, 50]\n",
    "moda_valores = moda(valores)\n",
    "print(moda_valores)"
   ]
  },
  {
   "cell_type": "markdown",
   "metadata": {},
   "source": [
    "## 4. Quartis\n",
    "\n",
    "- O que é?\n",
    "Quartis são valores que dividem um conjunto de dados ordenados em quatro partes iguais. Eles são:\n",
    "\n",
    "    - Primeiro quartil (Q1): o valor que separa os 25% inferiores dos dados.\n",
    "    - Segundo quartil (Q2): a mediana.\n",
    "    - Terceiro quartil (Q3): o valor que separa os 25% superiores dos dados.\n",
    "\n",
    "- Para que serve?\n",
    "Servem para fornecer uma visão detalhada da distribuição dos dados, especialmente sobre a dispersão e a presença de outliers.\n",
    "\n",
    "- Como fazer?\n",
    "Para calcular os quartis, ordene os dados e determine os valores que correspondem às posições de 25%, 50% e 75%:"
   ]
  },
  {
   "cell_type": "code",
   "execution_count": null,
   "metadata": {},
   "outputs": [],
   "source": [
    "import numpy as np\n",
    "\n",
    "def quartis(valores):\n",
    "    valores.sort()\n",
    "    Q1 = np.percentile(valores, 25)\n",
    "    Q2 = np.percentile(valores, 50)\n",
    "    Q3 = np.percentile(valores, 75)\n",
    "    return Q1, Q2, Q3\n",
    "\n",
    "valores = [10, 20, 30, 40, 50, 60, 70, 80, 90, 100]\n",
    "quartis_valores = quartis(valores)\n",
    "print(quartis_valores)"
   ]
  },
  {
   "cell_type": "markdown",
   "metadata": {},
   "source": [
    "## 5. Desvio Padrão\n",
    "\n",
    "- O que é?\n",
    "O desvio padrão é uma medida de dispersão que indica o quanto os valores de um conjunto de dados se desviam, em média, da média do conjunto de dados.\n",
    "\n",
    "- Para que serve?\n",
    "Serve para quantificar a quantidade de variação ou dispersão dos dados, ajudando a entender a consistência e a variabilidade dos dados em relação à média.\n",
    "\n",
    "- Como fazer?\n",
    "Para calcular o desvio padrão, encontre a média, calcule a diferença de cada valor em relação à média, eleve ao quadrado, some esses valores, divida pelo número de observações (para a população) ou pelo número de observações menos um (para a amostra), e tire a raiz quadrada do resultado:"
   ]
  },
  {
   "cell_type": "code",
   "execution_count": null,
   "metadata": {},
   "outputs": [],
   "source": [
    "import math\n",
    "\n",
    "def desvio_padrao(valores):\n",
    "    media_valores = sum(valores) / len(valores)\n",
    "    variancia = sum((x - media_valores) ** 2 for x in valores) / len(valores)\n",
    "    return math.sqrt(variancia)\n",
    "\n",
    "valores = [10, 20, 30, 40, 50]\n",
    "desvio_padrao_valores = desvio_padrao(valores)\n",
    "print(desvio_padrao_valores)"
   ]
  }
 ],
 "metadata": {
  "kernelspec": {
   "display_name": ".venv",
   "language": "python",
   "name": "python3"
  },
  "language_info": {
   "name": "python",
   "version": "3.12.0"
  }
 },
 "nbformat": 4,
 "nbformat_minor": 2
}
