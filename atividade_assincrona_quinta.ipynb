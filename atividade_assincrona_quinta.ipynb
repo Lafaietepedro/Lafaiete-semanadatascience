{
 "cells": [
  {
   "cell_type": "markdown",
   "metadata": {},
   "source": [
    "# Responda as perguntas:\n",
    "\n",
    "- O que é ?\n",
    "- Para que serve?\n",
    "- Como fazer?\n",
    "\n",
    "- Orientação a Objetos:\n",
    "    - Paradigma\n",
    "    - Objeto\n",
    "    - Classe\n",
    "    - Método\n",
    "    - Herança\n",
    "    - Polimorfismo\n",
    "    - Encapsulamento\n",
    "\n",
    "###### Fonte: Chat GPT"
   ]
  },
  {
   "cell_type": "markdown",
   "metadata": {},
   "source": [
    "## 1. Paradigma"
   ]
  },
  {
   "cell_type": "markdown",
   "metadata": {},
   "source": [
    "### O que é?\n",
    "O paradigma de orientação a objetos (OO) é um modelo de programação que organiza o software em torno de \"objetos\" em vez de \"ações\" e dados em vez de lógica. É uma maneira de estruturar e projetar software baseada na abstração de objetos do mundo real.\n",
    "\n",
    "### Para que serve?\n",
    "Serve para facilitar a modelagem de sistemas complexos, tornando o código mais modular, reutilizável e escalável. Ele promove a organização clara e lógica do código, permitindo que desenvolvedores gerenciem grandes projetos de forma mais eficiente.\n",
    "\n",
    "### Como fazer?\n",
    "Para adotar o paradigma OO:\n",
    "\n",
    "Identifique os objetos e classes que representam entidades no seu sistema.\n",
    "Defina as propriedades (atributos) e comportamentos (métodos) desses objetos.\n",
    "Utilize conceitos como herança, polimorfismo e encapsulamento para organizar e relacionar esses objetos."
   ]
  },
  {
   "cell_type": "markdown",
   "metadata": {},
   "source": [
    "## 2. Objeto"
   ]
  },
  {
   "cell_type": "markdown",
   "metadata": {},
   "source": [
    "### O que é?\n",
    "Um objeto é uma instância de uma classe que contém dados e comportamentos. Ele representa uma entidade do mundo real com características e ações específicas.\n",
    "\n",
    "###Para que serve?\n",
    "Serve para encapsular dados e funções que operam sobre esses dados, promovendo a modularidade e reutilização do código. Objetos facilitam a modelagem de entidades do mundo real dentro do software.\n",
    "\n",
    "### Como fazer?\n",
    "Em uma linguagem OO, crie uma instância de uma classe:"
   ]
  },
  {
   "cell_type": "code",
   "execution_count": null,
   "metadata": {},
   "outputs": [],
   "source": [
    "class Car:\n",
    "    def __init__(self, make, model):\n",
    "        self.make = make\n",
    "        self.model = model\n",
    "\n",
    "my_car = Car(\"Toyota\", \"Corolla\")"
   ]
  },
  {
   "cell_type": "markdown",
   "metadata": {},
   "source": [
    "## 3. Classe"
   ]
  },
  {
   "cell_type": "markdown",
   "metadata": {},
   "source": [
    "### O que é?\n",
    "Uma classe é um modelo ou um protótipo que define as propriedades (atributos) e os comportamentos (métodos) que os objetos criados a partir dela terão.\n",
    "\n",
    "### Para que serve?\n",
    "Serve como um molde para criar objetos, definindo sua estrutura e comportamento. As classes ajudam a organizar e gerenciar código, promovendo a reutilização e a manutenção.\n",
    "\n",
    "### Como fazer?\n",
    "Defina uma classe em uma linguagem OO:"
   ]
  },
  {
   "cell_type": "code",
   "execution_count": null,
   "metadata": {},
   "outputs": [],
   "source": [
    "class Car:\n",
    "    def __init__(self, make, model):\n",
    "        self.make = make\n",
    "        self.model = model\n",
    "\n",
    "    def drive(self):\n",
    "        print(\"Driving...\")\n"
   ]
  },
  {
   "cell_type": "markdown",
   "metadata": {},
   "source": [
    "## 4. Método"
   ]
  },
  {
   "cell_type": "markdown",
   "metadata": {},
   "source": [
    "### O que é?\n",
    "Um método é uma função definida dentro de uma classe que descreve os comportamentos que os objetos da classe podem realizar.\n",
    "\n",
    "### Para que serve?\n",
    "Serve para definir as ações que os objetos podem executar, encapsulando a lógica que opera sobre os dados do objeto.\n",
    "\n",
    "### Como fazer?\n",
    "Defina métodos dentro de uma classe:"
   ]
  },
  {
   "cell_type": "code",
   "execution_count": null,
   "metadata": {},
   "outputs": [],
   "source": [
    "class Car:\n",
    "    def __init__(self, make, model):\n",
    "        self.make = make\n",
    "        self.model = model\n",
    "\n",
    "    def drive(self):\n",
    "        print(f\"The {self.make} {self.model} is driving.\")\n"
   ]
  },
  {
   "cell_type": "markdown",
   "metadata": {},
   "source": [
    "## 5. Herança"
   ]
  },
  {
   "cell_type": "markdown",
   "metadata": {},
   "source": [
    "### O que é?\n",
    "Herança é um mecanismo pelo qual uma classe (subclasse) pode herdar propriedades e métodos de outra classe (superclasse).\n",
    "\n",
    "### Para que serve?\n",
    "Serve para promover a reutilização de código e estabelecer uma relação hierárquica entre classes, permitindo que subclasses especializem ou extendam o comportamento das superclasses.\n",
    "\n",
    "### Como fazer?\n",
    "Defina uma subclasse que herda de uma superclasse:"
   ]
  },
  {
   "cell_type": "code",
   "execution_count": null,
   "metadata": {},
   "outputs": [],
   "source": [
    "class ElectricCar(Car):\n",
    "    def charge(self):\n",
    "        print(\"Charging the car...\")"
   ]
  },
  {
   "cell_type": "markdown",
   "metadata": {},
   "source": [
    "## 6. Polimorfismo"
   ]
  },
  {
   "cell_type": "markdown",
   "metadata": {},
   "source": [
    "### O que é?\n",
    "Polimorfismo é a capacidade de diferentes classes utilizarem a mesma interface ou método, permitindo que um único nome de método funcione de diferentes maneiras em diferentes classes.\n",
    "\n",
    "### Para que serve?\n",
    "Serve para permitir que objetos de diferentes classes sejam tratados de maneira uniforme, aumentando a flexibilidade e a extensibilidade do código.\n",
    "\n",
    "### Como fazer?\n",
    "Utilize métodos com o mesmo nome em diferentes classes:"
   ]
  },
  {
   "cell_type": "code",
   "execution_count": null,
   "metadata": {},
   "outputs": [],
   "source": [
    "class Dog:\n",
    "    def sound(self):\n",
    "        return \"Bark\"\n",
    "\n",
    "class Cat:\n",
    "    def sound(self):\n",
    "        return \"Meow\"\n",
    "\n",
    "animals = [Dog(), Cat()]\n",
    "for animal in animals:\n",
    "    print(animal.sound())\n"
   ]
  },
  {
   "cell_type": "markdown",
   "metadata": {},
   "source": [
    "## 7. Encapsulamento"
   ]
  },
  {
   "cell_type": "markdown",
   "metadata": {},
   "source": [
    "### O que é?\n",
    "Encapsulamento é o conceito de restringir o acesso direto aos dados de um objeto, expondo apenas o necessário por meio de métodos.\n",
    "\n",
    "### Para que serve?\n",
    "Serve para proteger os dados internos do objeto e manter a integridade e consistência, permitindo que o comportamento interno do objeto possa ser alterado sem afetar o código externo.\n",
    "\n",
    "### Como fazer?\n",
    "Utilize atributos privados e métodos públicos para controlar o acesso:"
   ]
  },
  {
   "cell_type": "code",
   "execution_count": null,
   "metadata": {},
   "outputs": [],
   "source": [
    "class Person:\n",
    "    def __init__(self, name):\n",
    "        self.__name = name  # atributo privado\n",
    "\n",
    "    def get_name(self):\n",
    "        return self.__name\n",
    "\n",
    "    def set_name(self, name):\n",
    "        self.__name = name\n"
   ]
  }
 ],
 "metadata": {
  "kernelspec": {
   "display_name": ".venv",
   "language": "python",
   "name": "python3"
  },
  "language_info": {
   "name": "python",
   "version": "3.12.0"
  }
 },
 "nbformat": 4,
 "nbformat_minor": 2
}
